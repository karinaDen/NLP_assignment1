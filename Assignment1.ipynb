{
  "cells": [
    {
      "cell_type": "markdown",
      "metadata": {
        "id": "RKboZnAdgrRM"
      },
      "source": [
        "# [NLP] Assignment 1: Tokenization\n",
        "\n",
        "In this assignment, you need to tokenize the text of the Twitter(X) users posts(tweets). The assignment consists of two tasks. When you finish all the tasks, create a GitHub repository for this assignment (you can use this repo later for the other assignments) and submit this notebook in the repository. Leave `requirements.txt` file if your code requires additional installations. Submit the link to the repository in Moodle.\n",
        "\n",
        "The [data](https://drive.google.com/file/d/15x_wPAflvYQ2Xh38iNQGrqUIWLj5l5Nw/view?usp=share_link) contains 5 files whereby each contains 44 tweets. Each tweet is separated by a newline."
      ]
    },
    {
      "cell_type": "markdown",
      "metadata": {
        "id": "aLDjjAvemUP_"
      },
      "source": [
        "## Task 1. Tokenize some tweets manually (20 points)\n",
        "\n",
        "As a first task you need to tokenize first 15 tweets from `file2` by hand. This will allow you to understand the problem from a linguistic point of view. The guidelines for tweet tokenization are as follows:\n",
        "\n",
        "- Each smiley is a separate token\n",
        "- Each hashtag is an individual token. Each user reference is an individual token\n",
        "- If a word has spaces between them then it is converted to a single token\n",
        "- All punctuations are individual tokens. This includes double-quotes and single quotes also\n",
        "- A URL is a single token\n",
        "\n",
        "Example of output\n",
        "\n",
        "    Input tweet\n",
        "    @xfranman Old age has made N A T O!\n",
        "\n",
        "    Tokenized tweet (separated by comma)\n",
        "    @xfranman , Old , age , has , made , NATO , !"
      ]
    },
    {
      "cell_type": "markdown",
      "metadata": {
        "id": "7KKKwTidnzUw"
      },
      "source": [
        "\n",
        "    1. Input tweet\n",
        "        Camping in Maine for the weekend. Hey Dad, Mama Loves YOU: http://www.mamapalooza.com\n",
        "    1. Tokenized tweet\n",
        "        Camping , in , Maine , for , the , weekend , . , Hey , Dad , , , Mama , Loves , YOU , : , http://www.mamapalooza.com\n",
        "\n",
        "    2. Input tweet\n",
        "        Its american tradition bitch\n",
        "    2. Tokenized tweet\n",
        "        Its , american , tradition , bitch\n",
        "\n",
        "    3. Input tweet  \n",
        "        @ThroughTheVoid They love it! The only pleasure they get in life. I actually do that. I'm sure I hear a tiny squeak... Then louder ones\n",
        "    3. Tokenized tweet\n",
        "        @ThroughTheVoid , They , love , it , ! , The , only , pleasure , they , get , in , life , . , I , actually , do , that , . , I , ' , m , sure , I , hear , a , tiny , squeak , ... Then , louder , ones\n",
        "\n",
        "    4. Input tweet\n",
        "        \" RT @latti: @AbsoHilare stop tweeting in church! Lol <--- \"\"I tweet because I'm happy, I tweet because I'm free\"\" LOL!\"\n",
        "    4. Tokenized tweet\n",
        "        \" , RT , @latti , : , @AbsoHilare , stop , tweeting , in , church , ! , Lol , <--- , \" , \" , I , tweet , because , I , ' , m , happy , , , I , tweet , because , I , ' , m , free , \" , \" , LOL , ! , \"\n",
        "\n",
        "    5. Input tweet\n",
        "        Samsung Mini S2 portable HDD graced with colors that perfectly match your tacky beach gear: Sammy's done it aga.. http://tinyurl.com/lb5p6m\n",
        "    5. Tokenized tweet\n",
        "        Samsung , Mini , S2 , portable , HDD , graced , with , colors , that , perfectly , match , your , tacky , beach , gear , : , Sammy , ' , s, done , it , aga , .. , http://tinyurl.com/lb5p6m\n",
        "\n",
        "    6. Input tweet\n",
        "        @dialloc congrats on finding your way over. it may be slow going at first. hang in there. it's kinda cool when u get up to speed.\n",
        "    6. Tokenized tweet\n",
        "        @dialloc , congrats , on , finding , your , way , over , . , , , it , may , be , slow , going , at , first , . , hang , in , there , . , it , ' , s , kinda , cool , when , u , get , up , to , speed , .\n",
        "\n",
        "    7. Input tweet\n",
        "        iPhone activation delays continue, Apple offers $30 http://twt.gs/l3Ki\n",
        "    7. Tokenized tweet\n",
        "        iPhone , activation , delays , continue , , , Apple , offers , $30 , http://twt.gs/l3Ki\n",
        "\n",
        "    8. Input tweet\n",
        "        RT @GoogleAtWork Gmail maximum attachment size now 25MB http://bit.ly/62mjw Nice!!!\n",
        "    8. Tokenized tweet\n",
        "        RT , @GoogleAtWork , Gmail , maximum , attachment , size , now , 25MB , http://bit.ly/62mjw , Nice , !!!weet\n",
        "\n",
        "    9. Input tweet\n",
        "        RT @acfou The Ads Won Awards for Crispin; But Did Nothing for Client BurgerKing's Sales/Marketshare - Big Surprise - http://ping.fm/vw8TI\n",
        "    9. Tokenized tweet   \n",
        "        RT , @acfou , The , Ads , Won , Awards , for , Crispin , ; , But , Did , Nothing , for , Client , BurgerKing , ' , s , Sales/Marketshare , - , Big , Surprise , - , http://ping.fm/vw8TI\n",
        "        \n",
        "    10. Input tweet\n",
        "        Hey doll! Great I missed True Blood yday boo lol Rt @FrankBanuat78 @jhillstephens Hello Sunshine how are u today? :-)\n",
        "    10. Tokenized tweet\n",
        "        Hey , doll , ! , Great , I , missed , True , Blood , yday , boo , lol , Rt , @FrankBanuat78 , @jhillstephens , Hello , Sunshine , how , are , u , today , ? , :-)\n",
        "\n",
        "    11. Input tweet\n",
        "        Australian artist Pogo made these free songs primarily from sampled audio from Alice In Wonderland. http://www.last.fm/music/Pogo/Wonderland\n",
        "    11. Tokenized tweet\n",
        "        Australian , artist , Pogo , made , these , free , songs , primarily , from , sampled , audio , from , Alice , In , Wonderland , . , http://www.last.fm/music/Pogo/Wonderland\n",
        "\n",
        "    12. Input tweet\n",
        "        @mppritchard they wanted to sell all the preorders & then sell all of the ones they had in stock to those that just walked in. Can't do both\n",
        "    12. Tokenized tweet\n",
        "        @mppritchard , they , wanted , to , sell , all , the , preorders , & , then , sell , all , of , the , ones , they , had , in , stock , to , those , that , just , walked , in , . , Can , ' , t , do , both\n",
        "\n",
        "    13. Input tweet\n",
        "        Incoming: Frightened Rabbit, Sept. 22 (Tucson): If Fat Cat Records is going to send three great bands from Scot.. http://tinyurl.com/nz6xcv\n",
        "    13. Tokenized tweet\n",
        "        Incoming , : , Frightened , Rabbit , , , Sept , . , 22 , (Tucson) , : , If , Fat , Cat , Records , is , going , to , send , three , great , bands , from , Scot , .. , http://tinyurl.com/nz6xcv\n",
        "\n",
        "    14. Input tweet\n",
        "        Hey @ginoandfran please greet philip! (GinoandFran live > http://ustre.am/2YyQ)\n",
        "    14. Tokenized tweet\n",
        "        Hey , @ginoandfran , please , greet , philip , ! , (GinoandFran , live , > , http://ustre.am/2YyQ)\n",
        "\n",
        "    15. Input tweet\n",
        "        Ik weet niet wie er achter de T-Mobile iPhone Twitter zit maar ik vind het niet echt 'corporate' taalgebruik... Best vreemd eigenlijk \n",
        "    15. Tokenized tweet\n",
        "        Ik , weet , niet , wie , er , achter , de , T-Mobile , iPhone , Twitter , zit , maar , ik , vind , het , niet , echt , ' , corporate , ' , taalgebruik , ... , Best , vreemd , eigenlijk \n"
      ]
    },
    {
      "cell_type": "markdown",
      "metadata": {
        "id": "-2J2AD2nmUhi"
      },
      "source": [
        "## Task 2. Implement [Byte-Pair Encoding(BPE)](https://arxiv.org/pdf/1508.07909.pdf) Tokenizer (80 points)\n",
        "\n",
        "### Task 2.1. Implementation (60 points)\n",
        "\n",
        "Implement the tokenizer as the BPETokenizer class:\n",
        "* Implement `train` method that learns merges and builds the vocabulary of the specified `vocab_size` (25 points).\n",
        "* Implement `tokenize` method that should tokenize the text according to the learnt merges (25 points).\n",
        "\n",
        "Your code should have docstrings and comments (10 points)."
      ]
    },
    {
      "cell_type": "markdown",
      "metadata": {},
      "source": [
        "implementation idea was taken from [here](https://medium.com/@adari.girishkumar/unraveling-the-byte-pair-encoding-bpe-algorithm-in-nlp-39f82e48608c)"
      ]
    },
    {
      "cell_type": "code",
      "execution_count": 74,
      "metadata": {},
      "outputs": [],
      "source": [
        "from typing import List\n",
        "from collections import Counter, defaultdict\n",
        "import re\n",
        "\n",
        "class BPETokenizer:\n",
        "    \"\"\"\n",
        "    Byte Pair Encoding tokenizer.\n",
        "\n",
        "    Attributes:\n",
        "        vocab_size: The size of the vocabulary.\n",
        "        vocab: The learned vocabulary.\n",
        "    \"\"\"\n",
        "\n",
        "    def __init__(self, vocab_size: int) -> None:\n",
        "        \"\"\"\n",
        "        Initialize the tokenizer.\n",
        "\n",
        "        Args:\n",
        "            vocab_size: The size of the vocabulary.\n",
        "        \"\"\"\n",
        "        self.vocab_size = vocab_size\n",
        "        self.vocab = Counter()\n",
        "\n",
        "    def get_vocab(self, sent: str) -> None:\n",
        "        \"\"\"\n",
        "        Update the vocabulary with the frequency of each word in the sentence.\n",
        "\n",
        "        Args:\n",
        "            sent: The sentence to process.\n",
        "        \"\"\"\n",
        "        for word in sent.split():\n",
        "            # Normalize the word and add it to the vocabulary\n",
        "            self.vocab[\" \".join(list(re.sub('\\s\\s+', ' ', word))) + ' </w>'] += 1\n",
        "            \n",
        "    def train(self, corpus: List[str]) -> None:\n",
        "        \"\"\"\n",
        "        Train the tokenizer on a corpus.\n",
        "\n",
        "        This method learns merges and builds the vocabulary.\n",
        "\n",
        "        Args:\n",
        "            corpus: The corpus to train on.\n",
        "        \"\"\"\n",
        "        # Update the vocabulary with each sentence in the corpus\n",
        "        for sent in corpus:\n",
        "            self.get_vocab(sent)\n",
        "\n",
        "        # Initialize the set of symbols\n",
        "        self.symbols = set(list(' '.join(corpus)))\n",
        "\n",
        "        # Learn merges until vocab_size is reached\n",
        "        number_of_merges = self.vocab_size-len(self.symbols)        \n",
        "        for i in range(number_of_merges):\n",
        "            pairs = self.get_stats()\n",
        "            if not pairs:\n",
        "                break\n",
        "            best_pair = max(pairs, key=pairs.get)\n",
        "            self.symbols.add(best_pair[0] + best_pair[1])\n",
        "            self.merge_vocab(best_pair)\n",
        "\n",
        "    def tokenize(self, text: str) -> List[str]:\n",
        "        \"\"\"\n",
        "        Tokenize a text.\n",
        "\n",
        "        This method tokenizes the text according to the learned merges.\n",
        "\n",
        "        Args:\n",
        "            text: The text to tokenize.\n",
        "\n",
        "        Returns:\n",
        "            The tokenized text.\n",
        "        \"\"\"\n",
        "        current = ''\n",
        "        tokens = []\n",
        "        for i in text:\n",
        "            if current + i in self.symbols: \n",
        "                current += i\n",
        "                continue\n",
        "            if (len(current.strip()) > 0): \n",
        "                tokens.append(current)\n",
        "            current = i \n",
        "\n",
        "        return tokens\n",
        "\n",
        "    def get_stats(self):\n",
        "        \"\"\"\n",
        "        Get pairs of consecutive symbols in the vocabulary.\n",
        "\n",
        "        Returns:\n",
        "            A dictionary mapping pairs of symbols to their frequency.\n",
        "        \"\"\"\n",
        "        pairs = defaultdict(int)\n",
        "        for word, freq in self.vocab.items():\n",
        "            symbols = word.split()\n",
        "            for i in range(len(symbols) - 1):\n",
        "                pairs[symbols[i], symbols[i+1]] += freq\n",
        "        return pairs\n",
        "    \n",
        "    def merge_vocab(self, pair: List[str]) -> None:\n",
        "        \"\"\"\n",
        "        Merge a pair of symbols in the vocabulary.\n",
        "\n",
        "        Args:\n",
        "            pair: The pair of symbols to merge.\n",
        "        \"\"\"\n",
        "        new_vocab = {}\n",
        "        bigram = ' '.join(pair)\n",
        "        replacement = ''.join(pair)\n",
        "        for word in self.vocab:\n",
        "            new_word = word.replace(bigram, replacement)\n",
        "            new_vocab[new_word] = self.vocab[word]\n",
        "        self.vocab = new_vocab"
      ]
    },
    {
      "cell_type": "markdown",
      "metadata": {},
      "source": [
        "### Task 2.2. Analysis on Tweets Dataset (10 points)\n",
        "\n",
        "Train the BPE tokenizer on the tweets dataset. Try to tokenize the tweets with the tokenizer of different `vocab_size`. For example, train the BPE tokenizer with `vocab_size` of [base_vocab_size, 250, 500, 750, 1000]. Plot the dependency of the average length of the tokenized tweet by `vocab_size` to analyze how `vocab_size` affects the length of the tokenized tweet on average. Tell what `vocab_size` is preferrable and why."
      ]
    },
    {
      "cell_type": "code",
      "execution_count": 75,
      "metadata": {},
      "outputs": [],
      "source": [
        "# List to store the tweets\n",
        "tweets = []\n",
        "\n",
        "# Read tweets from each file\n",
        "for files in range(5):\n",
        "    with open(f'./data/file{files + 1}', 'r') as file:\n",
        "        tweets.extend(file.readlines())\n",
        "\n",
        "# Remove newline characters from the tweets\n",
        "tweets = [tweet.strip() for tweet in tweets]"
      ]
    },
    {
      "cell_type": "code",
      "execution_count": 94,
      "metadata": {},
      "outputs": [
        {
          "name": "stdout",
          "output_type": "stream",
          "text": [
            "Trained tokenizer with vocab size: 0\n",
            "Trained tokenizer with vocab size: 250\n",
            "Trained tokenizer with vocab size: 500\n",
            "Trained tokenizer with vocab size: 750\n",
            "Trained tokenizer with vocab size: 1000\n"
          ]
        }
      ],
      "source": [
        "vocab_sizes = [0, 250, 500, 750, 1000]\n",
        "average_lengths = []\n",
        "\n",
        "for vocab_size in vocab_sizes:\n",
        "    tokenizer = BPETokenizer(vocab_size)\n",
        "    tokenizer.train(tweets)\n",
        "    \n",
        "    tokenized_tweets = [tokenizer.tokenize(tweet) for tweet in tweets]\n",
        "    average_length = sum(len(tokens) for tokens in tokenized_tweets) / len(tweets)\n",
        "    average_lengths.append(average_length)\n",
        "    print(\"Trained tokenizer with vocab size:\", vocab_size)"
      ]
    },
    {
      "cell_type": "code",
      "execution_count": 95,
      "metadata": {},
      "outputs": [
        {
          "data": {
            "image/png": "[encoded data removed]",
            "text/plain": [
              "<Figure size 640x480 with 1 Axes>"
            ]
          },
          "metadata": {},
          "output_type": "display_data"
        }
      ],
      "source": [
        "import matplotlib.pyplot as plt\n",
        "\n",
        "\n",
        "plt.plot(vocab_sizes, average_lengths)\n",
        "plt.xlabel('Vocab Size')\n",
        "plt.ylabel('Average Length of Tokenized Tweet')\n",
        "plt.show()"
      ]
    },
    {
      "cell_type": "markdown",
      "metadata": {},
      "source": [
        "### Task 2.3. Analysis on Dataset of Different Language (10 points)\n",
        "\n",
        "Find a small dataset of texts in a language other than English. The dataset size should be not greater than several megabytes.\n",
        "\n",
        "Train the BPE tokenizer on the dataset that you found. Try to tokenize the sentences from this dataset with the tokenizer of different `vocab_size`. Plot the dependency of the average length of the tokenized sentence by `vocab_size` to analyze how `vocab_size` affects the length of the tokenized sentence on average.\n",
        "\n",
        "Tell how how the average length of the tokenized sentence differs from the average length of the tokenized tweet. Explain why. "
      ]
    },
    {
      "cell_type": "markdown",
      "metadata": {},
      "source": [
        "dataset was cropped and taken from [here](https://metatext.io/datasets/cc100-belarusian)"
      ]
    },
    {
      "cell_type": "code",
      "execution_count": 96,
      "metadata": {},
      "outputs": [],
      "source": [
        "texts = []\n",
        "\n",
        "with open('./data/cropped_texts.txt', 'r') as file:\n",
        "    text = file.readlines()\n",
        "\n",
        "texts = [line.strip() for line in text]"
      ]
    },
    {
      "cell_type": "code",
      "execution_count": 97,
      "metadata": {},
      "outputs": [
        {
          "name": "stdout",
          "output_type": "stream",
          "text": [
            "Trained tokenizer with vocab size: 0\n",
            "Trained tokenizer with vocab size: 250\n",
            "Trained tokenizer with vocab size: 500\n",
            "Trained tokenizer with vocab size: 750\n",
            "Trained tokenizer with vocab size: 1000\n"
          ]
        }
      ],
      "source": [
        "vocab_sizes = [0, 250, 500, 750, 1000]\n",
        "average_lengths_txt = []\n",
        "\n",
        "for vocab_size in vocab_sizes:\n",
        "    tokenizer = BPETokenizer(vocab_size)\n",
        "    tokenizer.train(text)\n",
        "    \n",
        "    tokenized_texts = [tokenizer.tokenize(text) for text in texts]\n",
        "    average_length_txt = sum(len(tokens) for tokens in tokenized_texts) / len(texts)\n",
        "    average_lengths_txt.append(average_length_txt)\n",
        "    print(\"Trained tokenizer with vocab size:\", vocab_size)"
      ]
    },
    {
      "cell_type": "code",
      "execution_count": 98,
      "metadata": {},
      "outputs": [
        {
          "data": {
            "image/png": "[encoded data removed]",
            "text/plain": [
              "<Figure size 640x480 with 1 Axes>"
            ]
          },
          "metadata": {},
          "output_type": "display_data"
        }
      ],
      "source": [
        "import matplotlib.pyplot as plt\n",
        "\n",
        "\n",
        "plt.plot(vocab_sizes, average_lengths)\n",
        "plt.plot(vocab_sizes, average_lengths_txt)\n",
        "plt.xlabel('Vocab Size')\n",
        "plt.ylabel('Average Length of Tokenized Text')\n",
        "plt.show()"
      ]
    },
    {
      "cell_type": "markdown",
      "metadata": {},
      "source": [
        "#### How the average length of the tokenized sentence differs from the average length of the tokenized tweet?\n",
        "\n",
        "The average length of tokenized sentence is less than the average length of tokenized tweet. The cause of this is that the sentence on Lingla may contain shorter words and dont have a url, hashtags, user references, etc."
      ]
    }
  ],
  "metadata": {
    "colab": {
      "provenance": [],
      "toc_visible": true
    },
    "kernelspec": {
      "display_name": "Python 3",
      "name": "python3"
    },
    "language_info": {
      "codemirror_mode": {
        "name": "ipython",
        "version": 3
      },
      "file_extension": ".py",
      "mimetype": "text/x-python",
      "name": "python",
      "nbconvert_exporter": "python",
      "pygments_lexer": "ipython3",
      "version": "3.10.12"
    }
  },
  "nbformat": 4,
  "nbformat_minor": 0
}
